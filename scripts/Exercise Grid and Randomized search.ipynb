{
 "cells": [
  {
   "cell_type": "markdown",
   "metadata": {},
   "source": [
    "## Exercício 8: \n",
    "### Adiciona o método randomized_search_cv. O método randomized_search_cv implementa uma estratégia de otimização de parâmetros de usando Nº combinações aleatórias. O randomized_search_cv avalia apenas um conjunto aleatório de parâmetros retirados de uma distribuição ou conjunto de valores possíveis."
   ]
  },
  {
   "cell_type": "markdown",
   "metadata": {},
   "source": [
    "Implementação do método randomized_search_cv e grid_search_cv no sub-package model_selection."
   ]
  },
  {
   "cell_type": "code",
   "execution_count": 16,
   "metadata": {},
   "outputs": [],
   "source": [
    "# -*- coding: utf-8 -*-\n",
    "\n",
    "# modules\n",
    "import sys\n",
    "import numpy as np\n",
    "sys.path.insert(0, 'C:/Users/ASUS/Desktop/Bioinfo/2ano/Sistemas Inteligentes/si/src/si')\n",
    "from model_selection.grid_search import grid_search_cv\n",
    "from model_selection.randomized_search import randomized_search_cv\n",
    "from linear_model.logistic_regression import LogisticRegression\n",
    "\n",
    "import os\n",
    "os.chdir(r\"C:/Users/ASUS/Desktop/Bioinfo/2ano/Sistemas Inteligentes/si/src/si/io\")\n",
    "from csv_file import read_csv"
   ]
  },
  {
   "cell_type": "code",
   "execution_count": 17,
   "metadata": {},
   "outputs": [
    {
     "data": {
      "text/plain": [
       "(698, 9)"
      ]
     },
     "execution_count": 17,
     "metadata": {},
     "output_type": "execute_result"
    }
   ],
   "source": [
    "path = 'C:/Users/ASUS/Desktop/Bioinfo/2ano/Sistemas Inteligentes/si/datasets/breast-bin.csv'\n",
    "breast = read_csv(path, sep = \",\", features = False, label = True)\n",
    "breast.shape()"
   ]
  },
  {
   "cell_type": "code",
   "execution_count": 18,
   "metadata": {},
   "outputs": [],
   "source": [
    "from sklearn.preprocessing import StandardScaler\n",
    "breast.X = StandardScaler().fit_transform(breast.X) "
   ]
  },
  {
   "cell_type": "markdown",
   "metadata": {},
   "source": [
    "### Randomized search"
   ]
  },
  {
   "cell_type": "code",
   "execution_count": 19,
   "metadata": {},
   "outputs": [
    {
     "name": "stdout",
     "output_type": "stream",
     "text": [
      "Scores: \n",
      "             seeds                     train                      test  \\\n",
      "0   [17, 846, 937]  [0.9696, 0.9642, 0.9714]  [0.9568, 0.9784, 0.9496]   \n",
      "1  [311, 135, 269]  [0.9678, 0.3435, 0.3417]   [0.964, 0.3453, 0.3525]   \n",
      "2  [900, 334, 430]  [0.9642, 0.3435, 0.3488]  [0.9784, 0.3453, 0.3237]   \n",
      "3  [606, 251, 364]  [0.9642, 0.3435, 0.3488]  [0.9784, 0.3453, 0.3237]   \n",
      "4  [215, 438, 345]  [0.9696, 0.3345, 0.3596]  [0.9568, 0.3813, 0.2806]   \n",
      "5   [651, 961, 45]  [0.9696, 0.3309, 0.3488]  [0.9568, 0.3957, 0.3237]   \n",
      "6  [287, 120, 338]    [0.9714, 0.347, 0.347]  [0.9496, 0.3309, 0.3309]   \n",
      "7   [649, 57, 568]   [0.966, 0.3435, 0.3488]  [0.9712, 0.3453, 0.3237]   \n",
      "8   [385, 570, 41]   [0.9642, 0.966, 0.9732]  [0.9784, 0.9712, 0.9424]   \n",
      "9   [75, 917, 405]  [0.9606, 0.3399, 0.3399]  [0.9928, 0.3597, 0.3597]   \n",
      "\n",
      "                                          parameters  \n",
      "0  {'l2_penalty': 2.0, 'alpha': 0.000818181818181...  \n",
      "1  {'l2_penalty': 9.0, 'alpha': 0.000809090909090...  \n",
      "2  {'l2_penalty': 8.0, 'alpha': 0.000827272727272...  \n",
      "3  {'l2_penalty': 2.0, 'alpha': 0.000536363636363...  \n",
      "4  {'l2_penalty': 6.0, 'alpha': 0.000163636363636...  \n",
      "5  {'l2_penalty': 8.0, 'alpha': 0.000254545454545...  \n",
      "6  {'l2_penalty': 5.0, 'alpha': 0.000927272727272...  \n",
      "7  {'l2_penalty': 10.0, 'alpha': 0.00086363636363...  \n",
      "8  {'l2_penalty': 2.0, 'alpha': 0.000463636363636...  \n",
      "9  {'l2_penalty': 6.0, 'alpha': 0.0007, 'max_iter...  \n"
     ]
    }
   ],
   "source": [
    "import pandas as pd\n",
    "\n",
    "log_reg = LogisticRegression(use_adaptive_alpha=True, max_iter=2000)\n",
    "parameter_distribution = {\"l2_penalty\": np.linspace(1,10,10), \"alpha\": np.linspace(0.001,0.0001,100), \"max_iter\": np.linspace(1000,2000,200, dtype = int)}\n",
    "scores = randomized_search_cv(log_reg, breast, parameter_distribution, cv=3)\n",
    "#print(f\"Scores: \\n{scores}\")\n",
    "print(f\"Scores: \\n{pd.DataFrame(scores)}\") "
   ]
  },
  {
   "cell_type": "markdown",
   "metadata": {},
   "source": [
    "### Grid search"
   ]
  },
  {
   "cell_type": "code",
   "execution_count": 20,
   "metadata": {},
   "outputs": [
    {
     "name": "stdout",
     "output_type": "stream",
     "text": [
      "Scores: [{'seeds': [513, 476, 804], 'train': [0.9624, 0.966, 0.9642], 'test': [0.9856, 0.9712, 0.9784], 'parameters': {'l2_penalty': 1, 'alpha': 0.001, 'max_iter': 1000}}, {'seeds': [653, 805, 353], 'train': [0.9732, 0.9606, 0.9678], 'test': [0.9424, 0.9928, 0.964], 'parameters': {'l2_penalty': 1, 'alpha': 0.001, 'max_iter': 2000}}, {'seeds': [980, 292, 701], 'train': [0.9606, 0.9714, 0.9624], 'test': [0.9928, 0.9496, 0.9856], 'parameters': {'l2_penalty': 1, 'alpha': 0.0001, 'max_iter': 1000}}, {'seeds': [651, 961, 45], 'train': [0.9696, 0.9606, 0.9714], 'test': [0.9568, 0.9928, 0.9496], 'parameters': {'l2_penalty': 1, 'alpha': 0.0001, 'max_iter': 2000}}, {'seeds': [612, 421, 700], 'train': [0.9642, 0.9732, 0.9642], 'test': [0.9784, 0.9424, 0.9784], 'parameters': {'l2_penalty': 10, 'alpha': 0.001, 'max_iter': 1000}}, {'seeds': [555, 572, 70], 'train': [0.9696, 0.975, 0.966], 'test': [0.9568, 0.9424, 0.9784], 'parameters': {'l2_penalty': 10, 'alpha': 0.001, 'max_iter': 2000}}, {'seeds': [768, 128, 827], 'train': [0.9642, 0.9696, 0.9696], 'test': [0.9784, 0.9568, 0.9568], 'parameters': {'l2_penalty': 10, 'alpha': 0.0001, 'max_iter': 1000}}, {'seeds': [331, 433, 141], 'train': [0.9642, 0.9606, 0.9624], 'test': [0.9784, 0.9928, 0.9856], 'parameters': {'l2_penalty': 10, 'alpha': 0.0001, 'max_iter': 2000}}]\n"
     ]
    }
   ],
   "source": [
    "log_reg = LogisticRegression(use_adaptive_alpha=False)\n",
    "parameter_grid = {'l2_penalty': (1, 10), 'alpha': (0.001, 0.0001), 'max_iter': (1000, 2000)}\n",
    "grid_scores = grid_search_cv(log_reg, breast, parameter_grid, cv=3)\n",
    "print(f\"Scores: {grid_scores}\")  # pd.DataFrame(grid_scores)"
   ]
  },
  {
   "cell_type": "code",
   "execution_count": 21,
   "metadata": {},
   "outputs": [
    {
     "name": "stdout",
     "output_type": "stream",
     "text": [
      "\n",
      "Hyperparameters: [513, 476, 804]\n",
      "Mean training score: 0.9642\n",
      "Mean test score: 0.9784\n",
      "\n",
      "Hyperparameters: [653, 805, 353]\n",
      "Mean training score: 0.9672\n",
      "Mean test score: 0.9664\n",
      "\n",
      "Hyperparameters: [980, 292, 701]\n",
      "Mean training score: 0.9648\n",
      "Mean test score: 0.976\n",
      "\n",
      "Hyperparameters: [651, 961, 45]\n",
      "Mean training score: 0.9672\n",
      "Mean test score: 0.9664\n",
      "\n",
      "Hyperparameters: [612, 421, 700]\n",
      "Mean training score: 0.9672\n",
      "Mean test score: 0.9664\n",
      "\n",
      "Hyperparameters: [555, 572, 70]\n",
      "Mean training score: 0.9702\n",
      "Mean test score: 0.9592\n",
      "\n",
      "Hyperparameters: [768, 128, 827]\n",
      "Mean training score: 0.9678\n",
      "Mean test score: 0.964\n",
      "\n",
      "Hyperparameters: [331, 433, 141]\n",
      "Mean training score: 0.9624\n",
      "Mean test score: 0.9856\n"
     ]
    }
   ],
   "source": [
    "for i in grid_scores:\n",
    "    print(\"\\nHyperparameters:\", i['seeds'])\n",
    "    print(\"Mean training score:\", round(np.mean(i['train']), 4))\n",
    "    print(\"Mean test score:\", round(np.mean(i['test']), 4))"
   ]
  },
  {
   "cell_type": "code",
   "execution_count": null,
   "metadata": {},
   "outputs": [],
   "source": []
  }
 ],
 "metadata": {
  "kernelspec": {
   "display_name": "Python 3.10.2 64-bit",
   "language": "python",
   "name": "python3"
  },
  "language_info": {
   "codemirror_mode": {
    "name": "ipython",
    "version": 3
   },
   "file_extension": ".py",
   "mimetype": "text/x-python",
   "name": "python",
   "nbconvert_exporter": "python",
   "pygments_lexer": "ipython3",
   "version": "3.10.2"
  },
  "orig_nbformat": 4,
  "vscode": {
   "interpreter": {
    "hash": "27f6fea6f47ae512550f0b8facdbd035a93e1dd89633f7bf2dd00a2502c71d0d"
   }
  }
 },
 "nbformat": 4,
 "nbformat_minor": 2
}
