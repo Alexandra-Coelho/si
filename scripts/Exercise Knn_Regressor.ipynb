{
 "cells": [
  {
   "cell_type": "markdown",
   "metadata": {},
   "source": [
    "## Exercício 3: Implementar o KNNRegressor com RMSE"
   ]
  },
  {
   "cell_type": "markdown",
   "metadata": {},
   "source": [
    "#### 3.1) Adiciona a métrica RMSE (RMQE em português) ao sub package metrics . Deves criar um módulo chamado rmse.py.\n",
    "\n",
    "#### 3.2) Considera a estrutura da função rmse apresentada no diapositivo seguinte\n",
    "\n",
    "#### 3.3) Adiciona o objeto KNNRegressor ao sub package neighbors. Deves criar um módulo chamado knn_regressor.py para implementar este objeto.\n",
    "\n",
    "#### 3.4) Considera a estrutura do objeto KNNRegressor apresentada no diapositivo seguinte."
   ]
  },
  {
   "cell_type": "markdown",
   "metadata": {},
   "source": [
    "implementação da classe KNNRegressor no sub-package neighbors, no módulo knn_regressor.py"
   ]
  },
  {
   "cell_type": "markdown",
   "metadata": {},
   "source": [
    "#### 3.5) Podes testar o objeto KNNRegressor num jupyter notebook usando o dataset cpu.csv (regressão)"
   ]
  },
  {
   "cell_type": "code",
   "execution_count": 2,
   "metadata": {},
   "outputs": [],
   "source": [
    "# -*- coding: utf-8 -*-\n",
    "\n",
    "# modules\n",
    "import sys\n",
    "sys.path.insert(0, 'C:/Users/ASUS/Desktop/Bioinfo/2ano/Sistemas Inteligentes/si/src/si')\n",
    "from neighbors.knn_regressor import KNNRegressor\n",
    "\n",
    "import os\n",
    "os.chdir(r\"C:/Users/ASUS/Desktop/Bioinfo/2ano/Sistemas Inteligentes/si/src/si/io\")\n",
    "from csv_file import read_csv"
   ]
  },
  {
   "cell_type": "code",
   "execution_count": 3,
   "metadata": {},
   "outputs": [
    {
     "name": "stdout",
     "output_type": "stream",
     "text": [
      "(209, 6)\n"
     ]
    }
   ],
   "source": [
    "path = 'C:/Users/ASUS/Desktop/Bioinfo/2ano/Sistemas Inteligentes/si/datasets/cpu.csv'\n",
    "dataset = read_csv(path, sep = \",\", features = True, label = True)\n",
    "print(dataset.shape())"
   ]
  },
  {
   "cell_type": "code",
   "execution_count": 6,
   "metadata": {},
   "outputs": [
    {
     "name": "stdout",
     "output_type": "stream",
     "text": [
      "[139.          13.66666667 113.66666667  43.33333333  30.33333333\n",
      " 174.66666667  28.          21.66666667  43.33333333 220.\n",
      "  28.33333333  25.          46.66666667 728.33333333 193.66666667\n",
      "  70.33333333 728.33333333  25.66666667 139.          10.33333333\n",
      "  23.33333333  86.33333333 183.66666667  41.33333333  25.66666667\n",
      "  96.33333333 220.          37.33333333  43.33333333  13.66666667\n",
      "  18.66666667  56.66666667 113.66666667  56.66666667  11.66666667\n",
      "  98.66666667  28.33333333  27.          23.33333333  33.33333333\n",
      "  32.33333333  76.66666667 183.66666667  22.          29.66666667\n",
      "  22.33333333  75.          68.66666667  36.33333333 314.66666667\n",
      "  22.33333333  48.         113.33333333  67.         193.66666667\n",
      "  55.66666667  60.66666667  15.66666667  20.66666667 139.\n",
      "  24.66666667  33.66666667  64.33333333 183.66666667  98.66666667\n",
      "  25.66666667  75.          56.66666667 239.33333333  28.\n",
      "  16.33333333  57.33333333  61.66666667  10.33333333  22.\n",
      "  61.66666667  55.33333333  30.33333333  22.         314.66666667\n",
      "  16.          42.66666667  16.        ]\n"
     ]
    }
   ],
   "source": [
    "from model_selection.split import train_test_split\n",
    "train, test = train_test_split(dataset, test_size=0.4, random_state=24)\n",
    "    \n",
    "knn = KNNRegressor(k=3)\n",
    "knn.fit(train)\n",
    "print(knn.predict(test))"
   ]
  },
  {
   "cell_type": "code",
   "execution_count": 7,
   "metadata": {},
   "outputs": [
    {
     "name": "stdout",
     "output_type": "stream",
     "text": [
      "79.23\n"
     ]
    }
   ],
   "source": [
    "print(knn.score(test))"
   ]
  }
 ],
 "metadata": {
  "kernelspec": {
   "display_name": "Python 3.10.2 64-bit",
   "language": "python",
   "name": "python3"
  },
  "language_info": {
   "codemirror_mode": {
    "name": "ipython",
    "version": 3
   },
   "file_extension": ".py",
   "mimetype": "text/x-python",
   "name": "python",
   "nbconvert_exporter": "python",
   "pygments_lexer": "ipython3",
   "version": "3.10.2"
  },
  "orig_nbformat": 4,
  "vscode": {
   "interpreter": {
    "hash": "27f6fea6f47ae512550f0b8facdbd035a93e1dd89633f7bf2dd00a2502c71d0d"
   }
  }
 },
 "nbformat": 4,
 "nbformat_minor": 2
}
