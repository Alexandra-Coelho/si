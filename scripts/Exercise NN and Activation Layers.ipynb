{
 "cells": [
  {
   "cell_type": "markdown",
   "metadata": {},
   "source": [
    "Implementação da classe NN, Dense, Sigmoid_Activation, SoftMaxActivation e ReLUActivation no sub-package neural_networks."
   ]
  },
  {
   "cell_type": "code",
   "execution_count": 1,
   "metadata": {},
   "outputs": [],
   "source": [
    "# -*- coding: utf-8 -*-\n",
    "\n",
    "# modules\n",
    "import sys\n",
    "import numpy as np\n",
    "sys.path.insert(0, 'C:/Users/ASUS/Desktop/Bioinfo/2ano/Sistemas Inteligentes/si/src/si')\n",
    "\n",
    "from data.dataset import Dataset\n",
    "from neural_networks.nn import NN\n",
    "from neural_networks.layers import Dense, Sigmoid_Activation, SoftMaxActivation, ReLUActivation, LinearActivation\n"
   ]
  },
  {
   "cell_type": "markdown",
   "metadata": {},
   "source": [
    "## NN test"
   ]
  },
  {
   "cell_type": "code",
   "execution_count": 2,
   "metadata": {},
   "outputs": [],
   "source": [
    "# dataset\n",
    "\n",
    "X = np.array([[0, 0], [0, 1], [1, 0], [1, 1]])\n",
    "y = np.array([1, 0, 0, 1])\n",
    "dataset = Dataset(X, y, features = ['x1', 'x2'], label = ['AND', 'OR'])"
   ]
  },
  {
   "cell_type": "code",
   "execution_count": 3,
   "metadata": {},
   "outputs": [],
   "source": [
    "l1 = Dense(input_size=2, output_size=2)\n",
    "l2 = Dense(input_size=2, output_size=1)\n",
    "\n",
    "l1_seq = Sigmoid_Activation()\n",
    "l2_seq = Sigmoid_Activation()\n",
    "\n",
    "layers = [l1, l1_seq, l2, l2_seq]\n",
    "nn_model = NN(layers)  "
   ]
  },
  {
   "cell_type": "code",
   "execution_count": 4,
   "metadata": {},
   "outputs": [
    {
     "data": {
      "text/plain": [
       "<neural_networks.nn.NN at 0x22a8b825f30>"
      ]
     },
     "execution_count": 4,
     "metadata": {},
     "output_type": "execute_result"
    }
   ],
   "source": [
    "nn_model.fit(dataset)"
   ]
  },
  {
   "cell_type": "code",
   "execution_count": 5,
   "metadata": {},
   "outputs": [
    {
     "data": {
      "text/plain": [
       "array([[0.49968838],\n",
       "       [0.49969368],\n",
       "       [0.49968866],\n",
       "       [0.49969395]])"
      ]
     },
     "execution_count": 5,
     "metadata": {},
     "output_type": "execute_result"
    }
   ],
   "source": [
    "nn_model.predict(dataset)"
   ]
  },
  {
   "cell_type": "markdown",
   "metadata": {},
   "source": [
    "## 10.3 - Binary problem"
   ]
  },
  {
   "cell_type": "code",
   "execution_count": 6,
   "metadata": {},
   "outputs": [
    {
     "data": {
      "text/plain": [
       "array([0, 0, 1, 0, 0, 0, 1, 0, 0, 0, 1, 0, 1, 0, 0, 1, 0, 1, 0, 0, 0, 0,\n",
       "       1, 0, 0, 0, 1, 1, 0, 1, 1, 0, 0, 0, 1, 1, 1, 0, 0, 1, 0, 0, 0, 0,\n",
       "       1, 1, 1, 1, 1, 0, 1, 1, 0, 0, 1, 1, 0, 0, 1, 0, 1, 1, 0, 0, 1, 0,\n",
       "       1, 1, 1, 0, 0, 1, 0, 0, 1, 0, 1, 0, 0, 0, 0, 1, 0, 0, 1, 0, 0, 0,\n",
       "       1, 1, 1, 1, 1, 1, 1, 0, 1, 1, 1, 0, 0, 0, 0, 0, 1, 0, 0, 1, 0, 0,\n",
       "       0, 1, 0, 0, 1, 1, 0, 1, 0, 0])"
      ]
     },
     "execution_count": 6,
     "metadata": {},
     "output_type": "execute_result"
    }
   ],
   "source": [
    "# training dataset\n",
    "n_examples = 120\n",
    "n_features = 32\n",
    "\n",
    "np.random.seed(32)\n",
    "X = np.random.randn(n_examples, n_features)\n",
    "y = np.random.randint(0, 2, n_examples)\n",
    "\n",
    "dataset_bin = Dataset(X, y)\n",
    "dataset_bin.y"
   ]
  },
  {
   "cell_type": "code",
   "execution_count": 7,
   "metadata": {},
   "outputs": [],
   "source": [
    "l1 = Dense(input_size=32, output_size=32)\n",
    "l2 = Dense(input_size=32, output_size=32//2)\n",
    "l3 = Dense(input_size=32//2, output_size=1)\n",
    "\n",
    "l1_seq = Sigmoid_Activation()\n",
    "l2_seq = Sigmoid_Activation()\n",
    "l3_seq = Sigmoid_Activation()\n",
    "\n",
    "layers = [l1, l1_seq, l2, l2_seq, l3, l3_seq]\n",
    "nn_model_bin = NN(layers)  "
   ]
  },
  {
   "cell_type": "code",
   "execution_count": null,
   "metadata": {},
   "outputs": [],
   "source": [
    "nn_model_bin.fit(dataset_bin)"
   ]
  },
  {
   "cell_type": "code",
   "execution_count": null,
   "metadata": {},
   "outputs": [],
   "source": [
    "nn_model_bin.predict(dataset_bin)"
   ]
  },
  {
   "cell_type": "markdown",
   "metadata": {},
   "source": [
    "## 10.4 - Multiclass problem"
   ]
  },
  {
   "cell_type": "code",
   "execution_count": 10,
   "metadata": {},
   "outputs": [
    {
     "data": {
      "text/plain": [
       "array([2, 2, 2, 2, 0, 1, 2, 0, 2, 1, 2, 0, 2, 1, 2, 1, 0, 2, 2, 0, 1, 0,\n",
       "       2, 0, 1, 1, 2, 1, 2, 2, 2, 1, 1, 2, 2, 2, 2, 0, 2, 1, 1, 1, 1, 0,\n",
       "       1, 2, 2, 0, 0, 0, 1, 1, 2, 2, 1, 2, 1, 0, 2, 0, 2, 1, 2, 1, 2, 0,\n",
       "       2, 2, 1, 0, 0, 1, 0, 2, 2, 1, 1, 0, 1, 0, 0, 0, 0, 2, 1, 0, 0, 1,\n",
       "       2, 2, 2, 2, 0, 0, 0, 0, 2, 0, 0, 0, 1, 1, 0, 1, 2, 2, 0, 0, 1, 0,\n",
       "       0, 1, 2, 2, 1, 2, 1, 2, 1, 2])"
      ]
     },
     "execution_count": 10,
     "metadata": {},
     "output_type": "execute_result"
    }
   ],
   "source": [
    "# training dataset\n",
    "n_examples = 120\n",
    "n_features = 32\n",
    "\n",
    "np.random.seed(32)\n",
    "X = np.random.randn(n_examples, n_features)\n",
    "y = np.random.randint(0, 3, n_examples)\n",
    "\n",
    "dataset_mult = Dataset(X, y)\n",
    "dataset_mult.y"
   ]
  },
  {
   "cell_type": "code",
   "execution_count": 11,
   "metadata": {},
   "outputs": [],
   "source": [
    "l1 = Dense(input_size=32, output_size=32)\n",
    "l2 = Dense(input_size=32, output_size=32//2)\n",
    "l3 = Dense(input_size=32//2, output_size=3)\n",
    "\n",
    "l1_seq = Sigmoid_Activation()\n",
    "l2_seq = Sigmoid_Activation()\n",
    "l3_soft = SoftMaxActivation()\n",
    "\n",
    "layers = [l1, l1_seq, l2, l2_seq, l3, l3_soft]\n",
    "nn_model_mult = NN(layers)  "
   ]
  },
  {
   "cell_type": "code",
   "execution_count": null,
   "metadata": {},
   "outputs": [],
   "source": [
    "nn_model_mult.fit(dataset_mult)"
   ]
  },
  {
   "cell_type": "code",
   "execution_count": null,
   "metadata": {},
   "outputs": [],
   "source": [
    "nn_model_mult.predict(dataset_mult)"
   ]
  },
  {
   "cell_type": "markdown",
   "metadata": {},
   "source": [
    "## 10.5 - Regression problem"
   ]
  },
  {
   "cell_type": "code",
   "execution_count": 13,
   "metadata": {},
   "outputs": [],
   "source": [
    "# training dataset\n",
    "n_examples = 120\n",
    "n_features = 32\n",
    "\n",
    "np.random.seed(32)\n",
    "X = np.random.randn(n_examples, n_features)\n",
    "y = np.random.randn(n_examples)\n",
    "\n",
    "dataset_reg = Dataset(X, y)"
   ]
  },
  {
   "cell_type": "code",
   "execution_count": 14,
   "metadata": {},
   "outputs": [],
   "source": [
    "l1 = Dense(input_size=32, output_size=32)\n",
    "l2 = Dense(input_size=32, output_size=32//2)\n",
    "l3 = Dense(input_size=32//2, output_size=1)\n",
    "\n",
    "l1_relu = ReLUActivation()\n",
    "l2_relu = ReLUActivation()\n",
    "l3_lin = LinearActivation()\n",
    "\n",
    "\n",
    "layers = [l1, l1_relu, l2, l2_relu, l3, l3_lin]\n",
    "nn_model_reg = NN(layers)  "
   ]
  },
  {
   "cell_type": "code",
   "execution_count": null,
   "metadata": {},
   "outputs": [],
   "source": [
    "nn_model_reg.fit(dataset_reg)"
   ]
  },
  {
   "cell_type": "code",
   "execution_count": null,
   "metadata": {},
   "outputs": [],
   "source": [
    "nn_model_reg.predict(dataset_reg)"
   ]
  }
 ],
 "metadata": {
  "kernelspec": {
   "display_name": "Python 3.10.2 64-bit",
   "language": "python",
   "name": "python3"
  },
  "language_info": {
   "codemirror_mode": {
    "name": "ipython",
    "version": 3
   },
   "file_extension": ".py",
   "mimetype": "text/x-python",
   "name": "python",
   "nbconvert_exporter": "python",
   "pygments_lexer": "ipython3",
   "version": "3.10.2"
  },
  "orig_nbformat": 4,
  "vscode": {
   "interpreter": {
    "hash": "27f6fea6f47ae512550f0b8facdbd035a93e1dd89633f7bf2dd00a2502c71d0d"
   }
  }
 },
 "nbformat": 4,
 "nbformat_minor": 2
}
