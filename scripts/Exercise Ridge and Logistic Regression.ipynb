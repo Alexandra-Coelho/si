{
 "cells": [
  {
   "cell_type": "markdown",
   "metadata": {},
   "source": [
    "## Exercício 6: Completa as implementações dos modelos RidgeRegression e LogisticRegression\n",
    "\n",
    "#### 6.1) Adiciona aos modelos anteriores o atributo (parâmetro estimado) cost_history. O cost_history deve ser um dicionário. Durante as iterações do Gradient Descent, computa a função de custo self.cost dataset )) e armazena o resultado no dicionário cost_history. A chave deve ser o número da iteração e o valor deve ser o custo nessa iteração.\n",
    "\n",
    "#### 6.2) Realiza um gráfico (line plot ) que permita visualizar o comportamento do custo em função do número de iterações.\n",
    "\n",
    "#### 6.3) Altera agora o algoritmo de Gradient Descent. Este algoritmo deve parar quando o valor da função de custo ( J/ self.cost ) não se altera.\n",
    "\n",
    "#### 6.4) Adiciona uma segunda versão do algoritmo Gradient Descent. Este algoritmo deve diminuir o valor de alfa quando a função de custo ( J/ self.cost ) não se altera."
   ]
  },
  {
   "cell_type": "markdown",
   "metadata": {},
   "source": [
    "Implementação da classe RidgeRegression e LogisticRegression no sub-package linear_model."
   ]
  },
  {
   "cell_type": "code",
   "execution_count": 2,
   "metadata": {},
   "outputs": [],
   "source": [
    "# -*- coding: utf-8 -*-\n",
    "\n",
    "# modules\n",
    "import sys\n",
    "sys.path.insert(0, 'C:/Users/ASUS/Desktop/Bioinfo/2ano/Sistemas Inteligentes/si/src/si')\n",
    "from linear_model.ridge_regression import RidgeRegression\n",
    "from linear_model.logistic_regression import LogisticRegression\n",
    "from model_selection.split import train_test_split\n",
    "import matplotlib.pyplot as plt\n",
    "\n",
    "import os\n",
    "os.chdir(r\"C:/Users/ASUS/Desktop/Bioinfo/2ano/Sistemas Inteligentes/si/src/si/io\")\n",
    "from csv_file import read_csv\n"
   ]
  },
  {
   "cell_type": "markdown",
   "metadata": {},
   "source": [
    "## RidgeRegression"
   ]
  },
  {
   "cell_type": "markdown",
   "metadata": {},
   "source": [
    "## Regular fit"
   ]
  },
  {
   "cell_type": "code",
   "execution_count": 3,
   "metadata": {},
   "outputs": [
    {
     "name": "stdout",
     "output_type": "stream",
     "text": [
      "(209, 6)\n"
     ]
    }
   ],
   "source": [
    "\n",
    "path = 'C:/Users/ASUS/Desktop/Bioinfo/2ano/Sistemas Inteligentes/si/datasets/cpu.csv'\n",
    "cpu = read_csv(path, sep = \",\", features = True, label = True)\n",
    "print(cpu.shape())"
   ]
  },
  {
   "cell_type": "code",
   "execution_count": 4,
   "metadata": {},
   "outputs": [
    {
     "name": "stdout",
     "output_type": "stream",
     "text": [
      "Predictions: [ 2.83877494e+02  1.71367820e+02  1.82146282e+02 -3.12284040e+01\n",
      "  1.17117890e+02  5.31133007e+01 -7.04869810e+00 -1.65434553e+01\n",
      "  1.97582559e+01 -2.47376080e+01  7.01747126e+01 -3.82352034e+01\n",
      "  8.44183388e+01 -4.29222339e+01 -3.96317142e+01  4.69944409e-01\n",
      "  7.20569484e+01  5.69059254e+01 -9.05330770e+00 -1.03937189e+01\n",
      "  5.39943344e+02  1.00626723e+02 -1.21270164e+00 -2.26750611e+01\n",
      "  8.35408150e+00 -2.00111842e+01  4.19423892e+02  5.27096673e+01\n",
      "  2.83352065e+02 -1.16417466e+01 -1.24170414e+01  2.94118471e+02\n",
      "  1.29623700e+02  2.72358457e+02 -2.65335649e+01  2.72358457e+02\n",
      " -4.26271816e+01 -5.57426867e+01 -4.20054336e+00  3.19153954e+01\n",
      " -3.55323640e+01]\n",
      "Score: 1107.3485\n",
      "Cost: 1204.1137\n"
     ]
    }
   ],
   "source": [
    "from sklearn.preprocessing import StandardScaler\n",
    "cpu.X = StandardScaler().fit_transform(cpu.X)  # para normalizar dados\n",
    "train, test = train_test_split(cpu, test_size=0.2, random_state=2)\n",
    "    \n",
    "cpu_ridge = RidgeRegression(use_adaptive_alpha = False, max_iter=2000)\n",
    "cpu_ridge.fit(train)  \n",
    "print(f\"Predictions: {cpu_ridge.predict(test)}\")\n",
    "print(f\"Score: {cpu_ridge.score(test)}\")\n",
    "print(f\"Cost: {cpu_ridge.cost(test)}\")\n"
   ]
  },
  {
   "cell_type": "code",
   "execution_count": 5,
   "metadata": {},
   "outputs": [
    {
     "data": {
      "image/png": "[encoded data removed]",
      "text/plain": [
       "<Figure size 432x288 with 1 Axes>"
      ]
     },
     "metadata": {
      "needs_background": "light"
     },
     "output_type": "display_data"
    }
   ],
   "source": [
    "#print(cpu_ridge.cost_history)\n",
    "plt.plot(list(cpu_ridge.cost_history.keys()), list(cpu_ridge.cost_history.values()), \"-\", color = \"blue\")\n",
    "plt.title(\"Cost of RidgeRegression with regular fit\")\n",
    "plt.show()"
   ]
  },
  {
   "cell_type": "markdown",
   "metadata": {},
   "source": [
    "## Adaptive fit"
   ]
  },
  {
   "cell_type": "code",
   "execution_count": 6,
   "metadata": {},
   "outputs": [
    {
     "name": "stdout",
     "output_type": "stream",
     "text": [
      "Predictions: [ 2.83922351e+02  1.71397493e+02  1.82171812e+02 -3.12037899e+01\n",
      "  1.17148377e+02  5.31372731e+01 -7.03148705e+00 -1.65203161e+01\n",
      "  1.97801124e+01 -2.47154721e+01  7.01993740e+01 -3.82184801e+01\n",
      "  8.44418970e+01 -4.29056062e+01 -3.96116391e+01  4.86032163e-01\n",
      "  7.20793768e+01  5.69367104e+01 -9.03485079e+00 -1.03713880e+01\n",
      "  5.39993213e+02  1.00647545e+02 -1.19381683e+00 -2.26523855e+01\n",
      "  8.37460773e+00 -1.99952980e+01  4.19477548e+02  5.27291513e+01\n",
      "  2.83390833e+02 -1.16303444e+01 -1.23981575e+01  2.94163499e+02\n",
      "  1.29652322e+02  2.72404157e+02 -2.65188384e+01  2.72404157e+02\n",
      " -4.26132673e+01 -5.57241669e+01 -4.18241719e+00  3.19368231e+01\n",
      " -3.55147772e+01]\n",
      "Score: 1107.0108\n",
      "Cost: 1203.7986\n"
     ]
    },
    {
     "data": {
      "image/png": "[encoded data removed]",
      "text/plain": [
       "<Figure size 432x288 with 1 Axes>"
      ]
     },
     "metadata": {
      "needs_background": "light"
     },
     "output_type": "display_data"
    }
   ],
   "source": [
    "cpu_ridge_adapt = RidgeRegression(use_adaptive_alpha = True, max_iter=2000)\n",
    "cpu_ridge_adapt.fit(train)  \n",
    "print(f\"Predictions: {cpu_ridge_adapt.predict(test)}\")\n",
    "print(f\"Score: {cpu_ridge_adapt.score(test)}\")\n",
    "print(f\"Cost: {cpu_ridge_adapt.cost(test)}\")\n",
    "\n",
    "\n",
    "plt.plot(list(cpu_ridge_adapt.cost_history.keys()), list(cpu_ridge_adapt.cost_history.values()), \"-\", color = \"red\")\n",
    "plt.title(\"Cost of RidgeRegression with adaptive fit\")\n",
    "plt.show()"
   ]
  },
  {
   "cell_type": "code",
   "execution_count": null,
   "metadata": {},
   "outputs": [],
   "source": []
  },
  {
   "cell_type": "markdown",
   "metadata": {},
   "source": [
    "## LogisticRegression"
   ]
  },
  {
   "cell_type": "code",
   "execution_count": 7,
   "metadata": {},
   "outputs": [],
   "source": [
    "path = 'C:/Users/ASUS/Desktop/Bioinfo/2ano/Sistemas Inteligentes/si/datasets/breast-bin.csv'\n",
    "breast = read_csv(path, sep = \",\", features = True, label = True)\n",
    "    \n",
    "from sklearn.preprocessing import StandardScaler\n",
    "breast.X = StandardScaler().fit_transform(breast.X) \n",
    "train, test = train_test_split(breast, test_size=0.2, random_state=2)"
   ]
  },
  {
   "cell_type": "markdown",
   "metadata": {},
   "source": [
    "## Regular fit"
   ]
  },
  {
   "cell_type": "code",
   "execution_count": 8,
   "metadata": {},
   "outputs": [
    {
     "name": "stdout",
     "output_type": "stream",
     "text": [
      "Predictions: [0, 0, 0, 0, 0, 0, 0, 0, 0, 0, 0, 0, 1, 0, 0, 1, 0, 0, 1, 1, 1, 0, 0, 0, 0, 0, 0, 0, 1, 1, 1, 0, 1, 0, 0, 0, 0, 0, 0, 0, 0, 0, 0, 0, 0, 1, 1, 0, 0, 0, 1, 1, 1, 1, 1, 0, 1, 1, 0, 0, 0, 0, 0, 0, 0, 0, 0, 0, 0, 0, 1, 1, 0, 0, 1, 0, 0, 1, 0, 0, 0, 0, 0, 1, 0, 0, 0, 0, 0, 1, 0, 0, 1, 1, 1, 1, 1, 1, 0, 0, 1, 0, 0, 1, 0, 1, 0, 1, 0, 0, 0, 0, 1, 1, 1, 0, 0, 0, 1, 0, 0, 0, 0, 0, 0, 1, 0, 1, 0, 1, 0, 0, 0, 1, 0, 0, 0, 0, 0]\n",
      "Score: 0.9784\n",
      "Cost: 0.3161\n"
     ]
    }
   ],
   "source": [
    "breast_log = LogisticRegression(use_adaptive_alpha = False, max_iter=2000)\n",
    "breast_log.fit(train)  \n",
    "print(f\"Predictions: {breast_log.predict(test)}\")\n",
    "print(f\"Score: {breast_log.score(test)}\")\n",
    "print(f\"Cost: {breast_log.cost(test)}\")"
   ]
  },
  {
   "cell_type": "code",
   "execution_count": 9,
   "metadata": {},
   "outputs": [
    {
     "data": {
      "image/png": "[encoded data removed]",
      "text/plain": [
       "<Figure size 432x288 with 1 Axes>"
      ]
     },
     "metadata": {
      "needs_background": "light"
     },
     "output_type": "display_data"
    }
   ],
   "source": [
    "#print(breast_log.cost_history)\n",
    "plt.plot(list(breast_log.cost_history.keys()), list(breast_log.cost_history.values()), \"-\", color = \"blue\")\n",
    "plt.title(\"Cost of LogisticRegression with regular fit\")\n",
    "plt.show()"
   ]
  },
  {
   "cell_type": "markdown",
   "metadata": {},
   "source": [
    "## Adaptive fit"
   ]
  },
  {
   "cell_type": "code",
   "execution_count": 10,
   "metadata": {},
   "outputs": [
    {
     "name": "stdout",
     "output_type": "stream",
     "text": [
      "Predictions: [0, 0, 0, 0, 0, 0, 0, 0, 0, 0, 0, 0, 1, 0, 0, 1, 0, 0, 1, 1, 1, 0, 0, 0, 0, 0, 0, 0, 1, 1, 1, 0, 1, 0, 0, 0, 0, 0, 0, 0, 0, 0, 0, 0, 0, 1, 1, 0, 0, 0, 1, 1, 1, 1, 1, 0, 1, 1, 0, 0, 0, 0, 0, 0, 0, 0, 0, 0, 0, 0, 1, 1, 0, 0, 1, 0, 0, 1, 0, 0, 0, 0, 0, 1, 0, 0, 0, 0, 0, 1, 0, 0, 1, 1, 1, 1, 1, 1, 0, 0, 1, 0, 0, 1, 0, 1, 0, 1, 0, 0, 0, 0, 1, 1, 1, 0, 0, 0, 1, 0, 0, 0, 0, 0, 0, 1, 0, 1, 0, 1, 0, 0, 0, 1, 0, 0, 0, 0, 0]\n",
      "Score: 0.9784\n",
      "Cost: 0.3158\n"
     ]
    }
   ],
   "source": [
    "breast_log_adapt = LogisticRegression(use_adaptive_alpha = True, max_iter=2000)\n",
    "breast_log_adapt.fit(train)  \n",
    "print(f\"Predictions: {breast_log_adapt.predict(test)}\")\n",
    "print(f\"Score: {breast_log_adapt.score(test)}\")\n",
    "print(f\"Cost: {breast_log_adapt.cost(test)}\")"
   ]
  },
  {
   "cell_type": "code",
   "execution_count": 11,
   "metadata": {},
   "outputs": [
    {
     "data": {
      "image/png": "[encoded data removed]",
      "text/plain": [
       "<Figure size 432x288 with 1 Axes>"
      ]
     },
     "metadata": {
      "needs_background": "light"
     },
     "output_type": "display_data"
    }
   ],
   "source": [
    "plt.plot(list(breast_log_adapt.cost_history.keys()), list(breast_log_adapt.cost_history.values()), \"-\", color = \"red\")\n",
    "plt.title(\"Cost of LogisticRegression with adaptive fit\")\n",
    "plt.show()"
   ]
  },
  {
   "cell_type": "code",
   "execution_count": null,
   "metadata": {},
   "outputs": [],
   "source": []
  }
 ],
 "metadata": {
  "kernelspec": {
   "display_name": "Python 3.10.2 64-bit",
   "language": "python",
   "name": "python3"
  },
  "language_info": {
   "codemirror_mode": {
    "name": "ipython",
    "version": 3
   },
   "file_extension": ".py",
   "mimetype": "text/x-python",
   "name": "python",
   "nbconvert_exporter": "python",
   "pygments_lexer": "ipython3",
   "version": "3.10.2"
  },
  "orig_nbformat": 4,
  "vscode": {
   "interpreter": {
    "hash": "27f6fea6f47ae512550f0b8facdbd035a93e1dd89633f7bf2dd00a2502c71d0d"
   }
  }
 },
 "nbformat": 4,
 "nbformat_minor": 2
}
